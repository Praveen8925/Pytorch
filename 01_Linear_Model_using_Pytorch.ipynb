{
  "nbformat": 4,
  "nbformat_minor": 0,
  "metadata": {
    "colab": {
      "provenance": [],
      "gpuType": "T4",
      "authorship_tag": "ABX9TyPyAEa5KxmN+zVmedfrpEmz",
      "include_colab_link": true
    },
    "kernelspec": {
      "name": "python3",
      "display_name": "Python 3"
    },
    "language_info": {
      "name": "python"
    },
    "accelerator": "GPU"
  },
  "cells": [
    {
      "cell_type": "markdown",
      "metadata": {
        "id": "view-in-github",
        "colab_type": "text"
      },
      "source": [
        "<a href=\"https://colab.research.google.com/github/Praveen8925/Pytorch/blob/main/01_Linear_Model_using_Pytorch.ipynb\" target=\"_parent\"><img src=\"https://colab.research.google.com/assets/colab-badge.svg\" alt=\"Open In Colab\"/></a>"
      ]
    },
    {
      "cell_type": "code",
      "execution_count": 3,
      "metadata": {
        "id": "qHcVBVwfgKAL"
      },
      "outputs": [],
      "source": [
        "import torch as t\n",
        "from torch import nn,tensor"
      ]
    },
    {
      "cell_type": "code",
      "source": [
        "s=t.tensor([[2,5],[6,8]])\n",
        "s.ndim,s.shape"
      ],
      "metadata": {
        "colab": {
          "base_uri": "https://localhost:8080/"
        },
        "id": "ROe9q2WTl7es",
        "outputId": "40e82509-9146-465c-9647-4d130ccdd5e5"
      },
      "execution_count": 79,
      "outputs": [
        {
          "output_type": "execute_result",
          "data": {
            "text/plain": [
              "(2, torch.Size([2, 2]))"
            ]
          },
          "metadata": {},
          "execution_count": 79
        }
      ]
    },
    {
      "cell_type": "code",
      "source": [
        "rand=t.rand(2)\n",
        "rand"
      ],
      "metadata": {
        "colab": {
          "base_uri": "https://localhost:8080/"
        },
        "id": "XKdOuQXImIoj",
        "outputId": "a44b99b0-d87a-41cb-f613-1cbce30d220a"
      },
      "execution_count": 80,
      "outputs": [
        {
          "output_type": "execute_result",
          "data": {
            "text/plain": [
              "tensor([0.3829, 0.9593])"
            ]
          },
          "metadata": {},
          "execution_count": 80
        }
      ]
    },
    {
      "cell_type": "code",
      "source": [
        "w=0.8\n",
        "b=0.3\n",
        "\n",
        "start=0\n",
        "end=1\n",
        "step=0.02\n",
        "x=t.arange(start,end,step).unsqueeze(dim=1)\n",
        "y=w*x+b\n",
        "x[:10],y[:10]\n",
        "\n",
        "\n"
      ],
      "metadata": {
        "id": "XRNeEVcEmocu",
        "colab": {
          "base_uri": "https://localhost:8080/"
        },
        "outputId": "8f5f7a1a-564a-442a-9dfa-78c91bb45884"
      },
      "execution_count": 81,
      "outputs": [
        {
          "output_type": "execute_result",
          "data": {
            "text/plain": [
              "(tensor([[0.0000],\n",
              "         [0.0200],\n",
              "         [0.0400],\n",
              "         [0.0600],\n",
              "         [0.0800],\n",
              "         [0.1000],\n",
              "         [0.1200],\n",
              "         [0.1400],\n",
              "         [0.1600],\n",
              "         [0.1800]]),\n",
              " tensor([[0.3000],\n",
              "         [0.3160],\n",
              "         [0.3320],\n",
              "         [0.3480],\n",
              "         [0.3640],\n",
              "         [0.3800],\n",
              "         [0.3960],\n",
              "         [0.4120],\n",
              "         [0.4280],\n",
              "         [0.4440]]))"
            ]
          },
          "metadata": {},
          "execution_count": 81
        }
      ]
    },
    {
      "cell_type": "markdown",
      "source": [],
      "metadata": {
        "id": "zGZfhJPGoNGT"
      }
    },
    {
      "cell_type": "code",
      "source": [
        "test_size=int(0.8*len(x))\n",
        "x_train,x_test=x[:test_size],x[test_size:]\n",
        "y_train,y_test=y[:test_size],y[test_size:]\n",
        "x_train.shape,y_train.shape,x_test.shape,y_test.shape"
      ],
      "metadata": {
        "colab": {
          "base_uri": "https://localhost:8080/"
        },
        "id": "_sXxatmdMdYE",
        "outputId": "c8b1c770-820c-4d92-82b1-aa340d28507a"
      },
      "execution_count": 82,
      "outputs": [
        {
          "output_type": "execute_result",
          "data": {
            "text/plain": [
              "(torch.Size([40, 1]),\n",
              " torch.Size([40, 1]),\n",
              " torch.Size([10, 1]),\n",
              " torch.Size([10, 1]))"
            ]
          },
          "metadata": {},
          "execution_count": 82
        }
      ]
    },
    {
      "cell_type": "code",
      "source": [
        "import matplotlib.pyplot as plt\n",
        "def plot_predictions(x_train=x_train,y_train=y_train,x_test=x_test,y_test=y_test,prediction=None):\n",
        "  plt.figure(figsize=(5,5))\n",
        "  plt.scatter(x_train,y_train,c=\"b\",s=4,label=\"training data\")\n",
        "  plt.scatter(x_test,y_test,c=\"g\",s=4,label=\"test data\")\n",
        "  if prediction is not None:\n",
        "    plt.scatter(x_test,prediction,c=\"r\",s=4,label=\"prediction\")\n",
        "  plt.legend(prop={\"size\":14})"
      ],
      "metadata": {
        "id": "JyRyMfewphhh"
      },
      "execution_count": 83,
      "outputs": []
    },
    {
      "cell_type": "code",
      "source": [
        "plot_predictions()\n"
      ],
      "metadata": {
        "colab": {
          "base_uri": "https://localhost:8080/",
          "height": 445
        },
        "id": "gnqBZS-Qp2Zp",
        "outputId": "687fdcdf-dcba-4a00-e920-2961cd7ee1fb"
      },
      "execution_count": 84,
      "outputs": [
        {
          "output_type": "display_data",
          "data": {
            "text/plain": [
              "<Figure size 500x500 with 1 Axes>"
            ],
            "image/png": "[encoded data removed]"
          },
          "metadata": {}
        }
      ]
    },
    {
      "cell_type": "code",
      "source": [
        "class linearmodel(nn.Module):\n",
        "  def __init__(self):\n",
        "    super().__init__()\n",
        "    self.w=nn.Parameter(t.rand(1,requires_grad=True))\n",
        "    self.b=nn.Parameter(t.rand(1,requires_grad=True))\n",
        "\n",
        "  def forward(self,x):\n",
        "    return self.w*x+self.b"
      ],
      "metadata": {
        "id": "prE-jov4Mtog"
      },
      "execution_count": 85,
      "outputs": []
    },
    {
      "cell_type": "code",
      "source": [
        "t.manual_seed(42)\n",
        "\n",
        "model_0=linearmodel()\n",
        "\n",
        "list(model_0.parameters())"
      ],
      "metadata": {
        "colab": {
          "base_uri": "https://localhost:8080/"
        },
        "id": "0vQhSZr0YLP9",
        "outputId": "f834e7b2-4d46-469f-ad42-ea13ea5e8341"
      },
      "execution_count": 86,
      "outputs": [
        {
          "output_type": "execute_result",
          "data": {
            "text/plain": [
              "[Parameter containing:\n",
              " tensor([0.8823], requires_grad=True),\n",
              " Parameter containing:\n",
              " tensor([0.9150], requires_grad=True)]"
            ]
          },
          "metadata": {},
          "execution_count": 86
        }
      ]
    },
    {
      "cell_type": "code",
      "source": [
        "with t.inference_mode():\n",
        "  y_preds=model_0(x_test)\n",
        "y_preds\n"
      ],
      "metadata": {
        "colab": {
          "base_uri": "https://localhost:8080/"
        },
        "id": "farEHIcyaQrf",
        "outputId": "a8ba272b-deee-4a3f-d275-585363acf845"
      },
      "execution_count": 87,
      "outputs": [
        {
          "output_type": "execute_result",
          "data": {
            "text/plain": [
              "tensor([[1.6208],\n",
              "        [1.6385],\n",
              "        [1.6561],\n",
              "        [1.6738],\n",
              "        [1.6914],\n",
              "        [1.7090],\n",
              "        [1.7267],\n",
              "        [1.7443],\n",
              "        [1.7620],\n",
              "        [1.7796]])"
            ]
          },
          "metadata": {},
          "execution_count": 87
        }
      ]
    },
    {
      "cell_type": "markdown",
      "source": [
        "\n",
        "### parameter for optimizer(params=)\n",
        "\n"
      ],
      "metadata": {
        "id": "-pLJwE0_d2ck"
      }
    },
    {
      "cell_type": "code",
      "source": [
        "### parameter for optimizer(params=)\n",
        "print(list(model_0.parameters()))\n",
        "\n",
        "model_0.state_dict()"
      ],
      "metadata": {
        "colab": {
          "base_uri": "https://localhost:8080/"
        },
        "id": "tPzPOqp6cvxN",
        "outputId": "13c888d0-806f-4650-8389-7f3f974a7545"
      },
      "execution_count": 88,
      "outputs": [
        {
          "output_type": "stream",
          "name": "stdout",
          "text": [
            "[Parameter containing:\n",
            "tensor([0.8823], requires_grad=True), Parameter containing:\n",
            "tensor([0.9150], requires_grad=True)]\n"
          ]
        },
        {
          "output_type": "execute_result",
          "data": {
            "text/plain": [
              "OrderedDict([('w', tensor([0.8823])), ('b', tensor([0.9150]))])"
            ]
          },
          "metadata": {},
          "execution_count": 88
        }
      ]
    },
    {
      "cell_type": "code",
      "source": [
        "#loss function\n",
        "loss_fn=nn.L1Loss()\n",
        "#optimizer\n",
        "optimizer=t.optim.SGD(params=model_0.parameters(),lr=0.01)"
      ],
      "metadata": {
        "id": "CzB0RlSAg6gl"
      },
      "execution_count": 89,
      "outputs": []
    },
    {
      "cell_type": "code",
      "source": [
        "epochs=100\n",
        "epoch_count=[]\n",
        "loss_values=[]\n",
        "test_loss_values=[]\n",
        "for e in range(epochs):\n",
        "  model_0.train\n",
        "  y_pred=model_0(x_train)\n",
        "  #syntax-->loss(input,target)\n",
        "  loss=loss_fn(y_pred,y_train)\n",
        "  print(f\"loss:{loss}\")\n",
        "  optimizer.zero_grad()\n",
        "  loss.backward()\n",
        "  optimizer.step()\n",
        "  model_0.eval()\n",
        "\n",
        "  with t.inference_mode():\n",
        "    test_pred=model_0(x_test)\n",
        "    test_loss=loss_fn(test_pred,y_test)\n",
        "  if e%10==0:\n",
        "    epoch_count.append(e)\n",
        "    loss_values.append(loss)\n",
        "    test_loss_values.append(test_loss)\n",
        "    print(f\"epoch:{e} | loss:{loss} |test_loss:{test_loss}\")\n",
        "    print(model_0.state_dict())"
      ],
      "metadata": {
        "colab": {
          "base_uri": "https://localhost:8080/"
        },
        "id": "fMXozKhFhUWl",
        "outputId": "07b9c1dc-e88b-4909-9fb1-3186371d97f2"
      },
      "execution_count": 90,
      "outputs": [
        {
          "output_type": "stream",
          "name": "stdout",
          "text": [
            "loss:0.647088885307312\n",
            "epoch:0 | loss:0.647088885307312 |test_loss:0.6747525930404663\n",
            "OrderedDict([('w', tensor([0.8784])), ('b', tensor([0.9050]))])\n",
            "loss:0.6355679631233215\n",
            "loss:0.624047040939331\n",
            "loss:0.612525999546051\n",
            "loss:0.601004958152771\n",
            "loss:0.5894839763641357\n",
            "loss:0.5779630541801453\n",
            "loss:0.56644207239151\n",
            "loss:0.55492103099823\n",
            "loss:0.54339998960495\n",
            "loss:0.5318790674209595\n",
            "epoch:10 | loss:0.5318790674209595 |test_loss:0.5400427579879761\n",
            "OrderedDict([('w', tensor([0.8394])), ('b', tensor([0.8050]))])\n",
            "loss:0.5203580856323242\n",
            "loss:0.508837103843689\n",
            "loss:0.4973161220550537\n",
            "loss:0.48579511046409607\n",
            "loss:0.4742741584777832\n",
            "loss:0.46275320649147034\n",
            "loss:0.4512321352958679\n",
            "loss:0.43971118330955505\n",
            "loss:0.4281901717185974\n",
            "loss:0.41666921973228455\n",
            "epoch:20 | loss:0.41666921973228455 |test_loss:0.4053329527378082\n",
            "OrderedDict([('w', tensor([0.8004])), ('b', tensor([0.7050]))])\n",
            "loss:0.4051482081413269\n",
            "loss:0.39362722635269165\n",
            "loss:0.3821062445640564\n",
            "loss:0.37058526277542114\n",
            "loss:0.3590642511844635\n",
            "loss:0.34754329919815063\n",
            "loss:0.3360222578048706\n",
            "loss:0.3245013356208801\n",
            "loss:0.3129803240299225\n",
            "loss:0.30145934224128723\n",
            "epoch:30 | loss:0.30145934224128723 |test_loss:0.2706230878829956\n",
            "OrderedDict([('w', tensor([0.7614])), ('b', tensor([0.6050]))])\n",
            "loss:0.289938360452652\n",
            "loss:0.2784173786640167\n",
            "loss:0.2668963670730591\n",
            "loss:0.25537538528442383\n",
            "loss:0.24385440349578857\n",
            "loss:0.23233339190483093\n",
            "loss:0.22081243991851807\n",
            "loss:0.20929142832756042\n",
            "loss:0.19777044653892517\n",
            "loss:0.18624946475028992\n",
            "epoch:40 | loss:0.18624946475028992 |test_loss:0.13591328263282776\n",
            "OrderedDict([('w', tensor([0.7224])), ('b', tensor([0.5050]))])\n",
            "loss:0.17472846806049347\n",
            "loss:0.16320748627185822\n",
            "loss:0.15168650448322296\n",
            "loss:0.1401655077934265\n",
            "loss:0.12864452600479126\n",
            "loss:0.117123544216156\n",
            "loss:0.10560254752635956\n",
            "loss:0.0940815657377243\n",
            "loss:0.08256058394908905\n",
            "loss:0.0710395947098732\n",
            "epoch:50 | loss:0.0710395947098732 |test_loss:0.005838972516357899\n",
            "OrderedDict([('w', tensor([0.6834])), ('b', tensor([0.4050]))])\n",
            "loss:0.05951860547065735\n",
            "loss:0.0479976162314415\n",
            "loss:0.038245122879743576\n",
            "loss:0.033141426742076874\n",
            "loss:0.030366310849785805\n",
            "loss:0.02859478071331978\n",
            "loss:0.02745634689927101\n",
            "loss:0.02662263810634613\n",
            "loss:0.026002228260040283\n",
            "loss:0.02550618350505829\n",
            "epoch:60 | loss:0.02550618350505829 |test_loss:0.05441243574023247\n",
            "OrderedDict([('w', tensor([0.6771])), ('b', tensor([0.3550]))])\n",
            "loss:0.025093484669923782\n",
            "loss:0.024680791422724724\n",
            "loss:0.024312283843755722\n",
            "loss:0.02395947463810444\n",
            "loss:0.02360665239393711\n",
            "loss:0.023253852501511574\n",
            "loss:0.022901039570569992\n",
            "loss:0.022555258125066757\n",
            "loss:0.02221202850341797\n",
            "loss:0.021870050579309464\n",
            "epoch:70 | loss:0.021870050579309464 |test_loss:0.05027909204363823\n",
            "OrderedDict([('w', tensor([0.6929])), ('b', tensor([0.3450]))])\n",
            "loss:0.021523023024201393\n",
            "loss:0.021184857934713364\n",
            "loss:0.02083585597574711\n",
            "loss:0.02049780823290348\n",
            "loss:0.02015065588057041\n",
            "loss:0.019808800891041756\n",
            "loss:0.019465452060103416\n",
            "loss:0.019119787961244583\n",
            "loss:0.018780255690217018\n",
            "loss:0.018431255593895912\n",
            "epoch:80 | loss:0.018431255593895912 |test_loss:0.04200650379061699\n",
            "OrderedDict([('w', tensor([0.7101])), ('b', tensor([0.3380]))])\n",
            "loss:0.018094569444656372\n",
            "loss:0.017746049910783768\n",
            "loss:0.017405569553375244\n",
            "loss:0.01706084981560707\n",
            "loss:0.016716554760932922\n",
            "loss:0.016375644132494926\n",
            "loss:0.016027549281716347\n",
            "loss:0.015690449625253677\n",
            "loss:0.015341436490416527\n",
            "loss:0.015002347528934479\n",
            "epoch:90 | loss:0.015002347528934479 |test_loss:0.03442084789276123\n",
            "OrderedDict([('w', tensor([0.7270])), ('b', tensor([0.3305]))])\n",
            "loss:0.014656242914497852\n",
            "loss:0.01431332714855671\n",
            "loss:0.013971040956676006\n",
            "loss:0.013624316081404686\n",
            "loss:0.013285842724144459\n",
            "loss:0.012936842627823353\n",
            "loss:0.012599107809364796\n",
            "loss:0.012251649051904678\n",
            "loss:0.0119100883603096\n"
          ]
        }
      ]
    },
    {
      "cell_type": "code",
      "source": [
        "import numpy as np\n",
        "plt.figure(figsize=(5,5))\n",
        "plt.plot(epoch_count,np.array(t.tensor(loss_values).numpy()),c=\"b\",label=\"training loss\")\n",
        "plt.plot(epoch_count,test_loss_values,c=\"g\",label=\"test loss\")\n",
        "plt.show()"
      ],
      "metadata": {
        "colab": {
          "base_uri": "https://localhost:8080/",
          "height": 446
        },
        "id": "j6PbHZD6sJr4",
        "outputId": "b3c73129-0ce5-48fb-f971-811e5ede05ef"
      },
      "execution_count": 91,
      "outputs": [
        {
          "output_type": "display_data",
          "data": {
            "text/plain": [
              "<Figure size 500x500 with 1 Axes>"
            ],
            "image/png": "[encoded data removed]"
          },
          "metadata": {}
        }
      ]
    },
    {
      "cell_type": "code",
      "source": [
        "plot_predictions(prediction=test_pred)"
      ],
      "metadata": {
        "colab": {
          "base_uri": "https://localhost:8080/",
          "height": 445
        },
        "id": "JqrE4vpsmzsY",
        "outputId": "e76ff8b7-7f91-4480-8b71-b8f56856bf78"
      },
      "execution_count": 93,
      "outputs": [
        {
          "output_type": "display_data",
          "data": {
            "text/plain": [
              "<Figure size 500x500 with 1 Axes>"
            ],
            "image/png": "[encoded data removed]"
          },
          "metadata": {}
        }
      ]
    },
    {
      "cell_type": "markdown",
      "source": [
        "###Second Model\n"
      ],
      "metadata": {
        "id": "moCjWyMteUzN"
      }
    },
    {
      "cell_type": "code",
      "source": [
        "x=t.arange(0,1,0.02).unsqueeze(dim=1)\n",
        "y=0.5*x+0.7\n",
        "#x[:10],y[:10]"
      ],
      "metadata": {
        "id": "zjeYVG4RpMOF"
      },
      "execution_count": 94,
      "outputs": []
    },
    {
      "cell_type": "code",
      "source": [
        "device=\"cuda\" if t.cuda.is_available() else \"cpu\"\n",
        "device\n"
      ],
      "metadata": {
        "colab": {
          "base_uri": "https://localhost:8080/",
          "height": 36
        },
        "id": "O-S4yYUfihDE",
        "outputId": "ddb0251a-5c7e-444b-b417-2940dbe0aa15"
      },
      "execution_count": 95,
      "outputs": [
        {
          "output_type": "execute_result",
          "data": {
            "text/plain": [
              "'cuda'"
            ],
            "application/vnd.google.colaboratory.intrinsic+json": {
              "type": "string"
            }
          },
          "metadata": {},
          "execution_count": 95
        }
      ]
    },
    {
      "cell_type": "code",
      "source": [
        "test_size=int(0.8*len(x))\n",
        "x_train,y_train=x[:test_size],x[:test_size]\n",
        "x_test,y_test=x[test_size:],x[test_size:]\n",
        "len(x_train,),len(x_test),len(y_train),len(y_test)"
      ],
      "metadata": {
        "colab": {
          "base_uri": "https://localhost:8080/"
        },
        "id": "TAN1IhGcfZH4",
        "outputId": "d3070701-5057-4d73-98df-acff56777155"
      },
      "execution_count": 96,
      "outputs": [
        {
          "output_type": "execute_result",
          "data": {
            "text/plain": [
              "(40, 10, 40, 10)"
            ]
          },
          "metadata": {},
          "execution_count": 96
        }
      ]
    },
    {
      "cell_type": "code",
      "source": [
        "class LinearModel1(nn.Module):\n",
        "  def __init__(self):\n",
        "    super().__init__()\n",
        "    self.Linear=nn.Linear(in_features=1,out_features=1)\n",
        "\n",
        "  def forward(self,x :t.tensor)->t.Tensor:\n",
        "    return self.Linear(x)\n"
      ],
      "metadata": {
        "id": "Z4TpidgrgJ1B"
      },
      "execution_count": 104,
      "outputs": []
    },
    {
      "cell_type": "code",
      "source": [
        "t.manual_seed(42)\n",
        "model=LinearModel1()\n",
        "model.state_dict()"
      ],
      "metadata": {
        "colab": {
          "base_uri": "https://localhost:8080/"
        },
        "id": "UuK5tlY6hKcr",
        "outputId": "154e56b4-6217-4381-e33c-0e4eed69b5cd"
      },
      "execution_count": 105,
      "outputs": [
        {
          "output_type": "execute_result",
          "data": {
            "text/plain": [
              "OrderedDict([('Linear.weight', tensor([[0.7645]])),\n",
              "             ('Linear.bias', tensor([0.8300]))])"
            ]
          },
          "metadata": {},
          "execution_count": 105
        }
      ]
    },
    {
      "cell_type": "code",
      "source": [
        "model.to(device)\n"
      ],
      "metadata": {
        "colab": {
          "base_uri": "https://localhost:8080/"
        },
        "id": "WzVuQEIyhwLq",
        "outputId": "abb75c79-b181-4cd4-c7db-7d647a4333fa"
      },
      "execution_count": 106,
      "outputs": [
        {
          "output_type": "execute_result",
          "data": {
            "text/plain": [
              "LinearModel1(\n",
              "  (Linear): Linear(in_features=1, out_features=1, bias=True)\n",
              ")"
            ]
          },
          "metadata": {},
          "execution_count": 106
        }
      ]
    },
    {
      "cell_type": "code",
      "source": [
        "loss_fn=nn.L1Loss()\n",
        "optimizer=t.optim.SGD(params=model.parameters(),lr=0.01)\n"
      ],
      "metadata": {
        "id": "jd6txZ3-i0Ul"
      },
      "execution_count": 107,
      "outputs": []
    },
    {
      "cell_type": "code",
      "source": [
        "# Put the Data Into Device\n",
        "x_train=x_train.to(device).float()\n",
        "y_train=y_train.to(device).float()\n",
        "x_test=x_test.to(device).float()\n",
        "y_test=y_test.to(device).float()"
      ],
      "metadata": {
        "id": "-V6PiTHAqu40"
      },
      "execution_count": 100,
      "outputs": []
    },
    {
      "cell_type": "code",
      "source": [
        "t.manual_seed(42)\n",
        "epochs=200\n",
        "epoch_count=[]\n",
        "loss_values=[]\n",
        "test_loss_values=[]\n",
        "\n",
        "for epoch in range(epochs):\n",
        "  model.train()\n",
        "  y_pred=model(x_train)\n",
        "  loss=loss_fn(y_pred,y_train)\n",
        "  optimizer.zero_grad()\n",
        "  loss.backward()\n",
        "  optimizer.step()\n",
        "  model.eval()\n",
        "  with t.inference_mode():\n",
        "    test=model(x_train)\n",
        "    loss_test=loss_fn(test,y_train)\n",
        "  if epoch%10==0:\n",
        "    epoch_count.append(epoch)\n",
        "    loss_values.append(loss)\n",
        "    test_loss_values.append(loss_test)\n",
        "    print(f\"epoch:{epoch} | loss:{loss} |test_loss:{loss_test}\")"
      ],
      "metadata": {
        "colab": {
          "base_uri": "https://localhost:8080/"
        },
        "id": "kFVAYEebje7h",
        "outputId": "e3ff2ecf-07bc-47b3-f91f-9b176e6fb6a3"
      },
      "execution_count": 113,
      "outputs": [
        {
          "output_type": "stream",
          "name": "stdout",
          "text": [
            "epoch:0 | loss:0.004285582806915045 |test_loss:0.007235413882881403\n",
            "epoch:10 | loss:0.004285582806915045 |test_loss:0.007235413882881403\n",
            "epoch:20 | loss:0.004285582806915045 |test_loss:0.007235413882881403\n",
            "epoch:30 | loss:0.004285582806915045 |test_loss:0.007235413882881403\n",
            "epoch:40 | loss:0.004285582806915045 |test_loss:0.007235413882881403\n",
            "epoch:50 | loss:0.004285582806915045 |test_loss:0.007235413882881403\n",
            "epoch:60 | loss:0.004285582806915045 |test_loss:0.007235413882881403\n",
            "epoch:70 | loss:0.004285582806915045 |test_loss:0.007235413882881403\n",
            "epoch:80 | loss:0.004285582806915045 |test_loss:0.007235413882881403\n",
            "epoch:90 | loss:0.004285582806915045 |test_loss:0.007235413882881403\n",
            "epoch:100 | loss:0.004285582806915045 |test_loss:0.007235413882881403\n",
            "epoch:110 | loss:0.004285582806915045 |test_loss:0.007235413882881403\n",
            "epoch:120 | loss:0.004285582806915045 |test_loss:0.007235413882881403\n",
            "epoch:130 | loss:0.004285582806915045 |test_loss:0.007235413882881403\n",
            "epoch:140 | loss:0.004285582806915045 |test_loss:0.007235413882881403\n",
            "epoch:150 | loss:0.004285582806915045 |test_loss:0.007235413882881403\n",
            "epoch:160 | loss:0.004285582806915045 |test_loss:0.007235413882881403\n",
            "epoch:170 | loss:0.004285582806915045 |test_loss:0.007235413882881403\n",
            "epoch:180 | loss:0.004285582806915045 |test_loss:0.007235413882881403\n",
            "epoch:190 | loss:0.004285582806915045 |test_loss:0.007235413882881403\n"
          ]
        }
      ]
    },
    {
      "cell_type": "code",
      "source": [
        "with t.inference_mode():\n",
        "  y_pred=model(x_test)\n",
        "y_pred = y_pred.cpu()"
      ],
      "metadata": {
        "id": "LheTYbrztkRc"
      },
      "execution_count": 119,
      "outputs": []
    },
    {
      "cell_type": "code",
      "source": [
        "plot_predictions(prediction=y_pred)"
      ],
      "metadata": {
        "colab": {
          "base_uri": "https://localhost:8080/",
          "height": 445
        },
        "id": "L60pYKpbvQS6",
        "outputId": "5e80260c-4d2f-4c8a-d4de-1e9bdb83a17a"
      },
      "execution_count": 120,
      "outputs": [
        {
          "output_type": "display_data",
          "data": {
            "text/plain": [
              "<Figure size 500x500 with 1 Axes>"
            ],
            "image/png": "[encoded data removed]"
          },
          "metadata": {}
        }
      ]
    }
  ]
}